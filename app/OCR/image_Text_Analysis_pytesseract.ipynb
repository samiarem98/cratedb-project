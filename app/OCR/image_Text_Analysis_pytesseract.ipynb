{
 "cells": [
  {
   "cell_type": "markdown",
   "metadata": {},
   "source": [
    "### Image Text Extraction and Description Generation using OpenAI and Tesseract\n",
    "This Python script extracts text from an image using the Tesseract OCR engine and generates a detailed description of the image content by leveraging the OpenAI API."
   ]
  },
  {
   "cell_type": "code",
   "execution_count": 1,
   "metadata": {},
   "outputs": [],
   "source": [
    "import openai\n",
    "from PIL import Image\n",
    "import pytesseract\n",
    "import os "
   ]
  },
  {
   "cell_type": "code",
   "execution_count": 13,
   "metadata": {},
   "outputs": [
    {
     "name": "stdout",
     "output_type": "stream",
     "text": [
      "Image Description:\n",
      "Title: Data Science/AI\n",
      "\n",
      "Subheadings: \n",
      "\n",
      "1. Data Streaming & Warehouse \n",
      "2. Business Intelligence Orchestration \n",
      "3. Unified Governance\n",
      "4. Unified Data\n",
      "\n",
      "Content or Key Information:\n",
      "\n",
      "The image seems to be a visual representation or an infographic related to Data Science or Artificial Intelligence (AI). The four main aspects discussed or represented in the image are:\n",
      "\n",
      "1. Data Streaming & Warehouse: This indicates the process or system used to collect and store data continuously which is related to data science or AI. A Data Warehouse signifies a massive storage system handling and processing large amounts of data for analytical purposes.\n",
      "\n",
      "2. Business Intelligence Orchestration: This part of the image is likely to describe the process of integrating, managing, and analyzing business data to create meaningful information that aids in making business decisions.\n",
      "\n",
      "3. Unified Governance: This implies an amalgamated system or process overseeing and controlling the use, handling, and distribution of data within an AI or data science framework, ensuring proper regulations and rules are adhered to.\n",
      "\n",
      "4. Unified Data: This could denote a holistic integration of multiple data sources into a single, unified platform. It implies the use of consolidated data for data analysis or machine learning purposes in data science or AI. \n",
      "\n",
      "The image does not provide more details than these four points, and there are no additional contextual or specific information related. The image seems to summarize some major aspects of managing and utilizing data in the fields of AI and Data Science.\n"
     ]
    }
   ],
   "source": [
    "\n",
    "# === Step 1: Load the image from the specified path ===\n",
    "image_path = r\"../../data/marketecture.png\"\n",
    "\n",
    "# Load the image\n",
    "image = Image.open(image_path)\n",
    "\n",
    "# === Step 2: Extract text from the image using Tesseract === \n",
    "\n",
    "#change this path based on where pytesseract is located ! \n",
    "pytesseract.pytesseract.tesseract_cmd = r\"C:\\Users\\sami.arem\\AppData\\Local\\Programs\\Tesseract-OCR\\tesseract.exe\"\n",
    "\n",
    "extracted_text = pytesseract.image_to_string(image)\n",
    "\n",
    "# === Step 3: Use the OpenAI API to describe the image ===\n",
    "openai.api_key = os.environ['OPENAI_API_KEY']\n",
    "\n",
    "\n",
    "# Prepare a prompt based on the extracted text\n",
    "prompt = (\n",
    "    f\"Based on the following extracted text from the image:\\n\\n\"\n",
    "    f\"{extracted_text}\\n\\n\"\n",
    "    \"Provide a well-structured and detailed description of the image content. Focus on relevant and meaningful text. \"\n",
    "    \"Format the description clearly into sections if needed, such as 'Title', 'Subheadings', 'Content', or 'Key Information'. \"\n",
    "    \"Ignore any text that seems incomplete, irrelevant, or repetitive. Use proper grammar, punctuation, and clear formatting.\"\n",
    ")\n",
    "# Use the OpenAI API to generate a description\n",
    "response = openai.ChatCompletion.create(\n",
    "    model=\"gpt-4\",  # You can switch to \"gpt-3.5-turbo\" if needed\n",
    "    messages=[\n",
    "        {\"role\": \"system\", \"content\": \"You are an AI that describes images and diagrams based on extracted text.\"},\n",
    "        {\"role\": \"user\", \"content\": prompt}\n",
    "    ],\n",
    "    max_tokens=500\n",
    ")\n",
    "\n",
    "# Get the generated description\n",
    "description = response['choices'][0]['message']['content'].strip()\n",
    "\n",
    "# === Step 4: Print the description ===\n",
    "print(\"Image Description:\")\n",
    "print(description)\n"
   ]
  }
 ],
 "metadata": {
  "kernelspec": {
   "display_name": "base",
   "language": "python",
   "name": "python3"
  },
  "language_info": {
   "codemirror_mode": {
    "name": "ipython",
    "version": 3
   },
   "file_extension": ".py",
   "mimetype": "text/x-python",
   "name": "python",
   "nbconvert_exporter": "python",
   "pygments_lexer": "ipython3",
   "version": "3.12.7"
  }
 },
 "nbformat": 4,
 "nbformat_minor": 2
}
